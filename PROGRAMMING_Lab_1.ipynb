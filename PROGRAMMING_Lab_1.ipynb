{
 "cells": [
  {
   "cell_type": "code",
   "execution_count": 180,
   "id": "f40a0097-ba0f-4cd5-829d-aa47ac9e1287",
   "metadata": {},
   "outputs": [],
   "source": [
    "import pandas as pd"
   ]
  },
  {
   "cell_type": "code",
   "execution_count": 181,
   "id": "bfb501f3-52d3-4a6b-991c-c76799ff36a8",
   "metadata": {},
   "outputs": [],
   "source": [
    "df_c = pd.read_csv('..\\data\\weatherAUS.csv')"
   ]
  },
  {
   "cell_type": "code",
   "execution_count": 182,
   "id": "eb991ef0-e40a-4269-8b3e-07f3127108ce",
   "metadata": {},
   "outputs": [
    {
     "name": "stdout",
     "output_type": "stream",
     "text": [
      "<class 'pandas.core.frame.DataFrame'>\n",
      "RangeIndex: 145460 entries, 0 to 145459\n",
      "Data columns (total 23 columns):\n",
      " #   Column         Non-Null Count   Dtype  \n",
      "---  ------         --------------   -----  \n",
      " 0   Date           145460 non-null  object \n",
      " 1   Location       145460 non-null  object \n",
      " 2   MinTemp        143975 non-null  float64\n",
      " 3   MaxTemp        144199 non-null  float64\n",
      " 4   Rainfall       142199 non-null  float64\n",
      " 5   Evaporation    82670 non-null   float64\n",
      " 6   Sunshine       75625 non-null   float64\n",
      " 7   WindGustDir    135134 non-null  object \n",
      " 8   WindGustSpeed  135197 non-null  float64\n",
      " 9   WindDir9am     134894 non-null  object \n",
      " 10  WindDir3pm     141232 non-null  object \n",
      " 11  WindSpeed9am   143693 non-null  float64\n",
      " 12  WindSpeed3pm   142398 non-null  float64\n",
      " 13  Humidity9am    142806 non-null  float64\n",
      " 14  Humidity3pm    140953 non-null  float64\n",
      " 15  Pressure9am    130395 non-null  float64\n",
      " 16  Pressure3pm    130432 non-null  float64\n",
      " 17  Cloud9am       89572 non-null   float64\n",
      " 18  Cloud3pm       86102 non-null   float64\n",
      " 19  Temp9am        143693 non-null  float64\n",
      " 20  Temp3pm        141851 non-null  float64\n",
      " 21  RainToday      142199 non-null  object \n",
      " 22  RainTomorrow   142193 non-null  object \n",
      "dtypes: float64(16), object(7)\n",
      "memory usage: 25.5+ MB\n"
     ]
    }
   ],
   "source": [
    "df_c.info()"
   ]
  },
  {
   "cell_type": "code",
   "execution_count": 183,
   "id": "4bf973ef-2bc1-49ba-b0b4-2377e3be6e2c",
   "metadata": {},
   "outputs": [
    {
     "data": {
      "text/plain": [
       "Date                 0\n",
       "Location             0\n",
       "MinTemp           1485\n",
       "MaxTemp           1261\n",
       "Rainfall          3261\n",
       "Evaporation      62790\n",
       "Sunshine         69835\n",
       "WindGustDir      10326\n",
       "WindGustSpeed    10263\n",
       "WindDir9am       10566\n",
       "WindDir3pm        4228\n",
       "WindSpeed9am      1767\n",
       "WindSpeed3pm      3062\n",
       "Humidity9am       2654\n",
       "Humidity3pm       4507\n",
       "Pressure9am      15065\n",
       "Pressure3pm      15028\n",
       "Cloud9am         55888\n",
       "Cloud3pm         59358\n",
       "Temp9am           1767\n",
       "Temp3pm           3609\n",
       "RainToday         3261\n",
       "RainTomorrow      3267\n",
       "dtype: int64"
      ]
     },
     "execution_count": 183,
     "metadata": {},
     "output_type": "execute_result"
    }
   ],
   "source": [
    "missing_values = df_c.isnull().sum()\n",
    "missing_values"
   ]
  },
  {
   "cell_type": "code",
   "execution_count": 184,
   "id": "49d3563c-055e-4b64-a6ed-6f299ab32757",
   "metadata": {},
   "outputs": [],
   "source": [
    "for column in df_c.columns:\n",
    "    if df_c[column].dtype == 'int64':\n",
    "        df_c[column].fillna(df_c[column].median(), inplace=True)\n",
    "    elif df_c[column].dtype == 'float64':\n",
    "        df_c[column].fillna(df_c[column].mean(), inplace=True)\n",
    "    else:\n",
    "        df_c[column].fillna(df_c[column].mode()[0], inplace=True)"
   ]
  },
  {
   "cell_type": "code",
   "execution_count": 185,
   "id": "1b46ecee-4232-4564-9a72-1cbd86ad960f",
   "metadata": {},
   "outputs": [],
   "source": [
    "df_c = df_c.rename (\n",
    "    columns = {\n",
    "        'Date' : 'date',\n",
    "        'Location' : 'location',\n",
    "        'MinTemp' : 'min_temp',\n",
    "        'MaxTemp' : 'max_temp',\n",
    "        'Rainfall' : 'rainfall',\n",
    "        'Evaporation' : 'evaporation',\n",
    "        'Sunshine' : 'sunshine',\n",
    "        'WindGustDir' : 'wind_gust_dir',\n",
    "        'WindGustSpeed' : 'wind_gust_speed',\n",
    "        'WindDir9am' : 'wind_dir_9am',\n",
    "        'WindDir3pm' : 'wind_dir_3pm',\n",
    "        'WindSpeed9am' : 'wind_speed_9am',\n",
    "        'WindSpeed3pm' : 'wind_speed_3pm',\n",
    "        'Humidity9am' : 'humidity_9am',\n",
    "        'Humidity3pm' : 'humidity_3pm',\n",
    "        'Pressure9am' : 'pressure_9am',\n",
    "        'Pressure3pm' : 'pressure_3pm',\n",
    "        'Cloud9am' : 'cloud_9am',\n",
    "        'Cloud3pm' : 'cloud_3pm',\n",
    "        'Temp9am' : 'temp_9am',\n",
    "        'Temp3pm' : 'temp_3pm',\n",
    "        'RainToday' : 'rain_today',\n",
    "        'RainTomorrow' : 'rain_tomorrow'\n",
    "    }\n",
    ")"
   ]
  },
  {
   "cell_type": "code",
   "execution_count": 186,
   "id": "4fac7b1d-4d0b-4261-960e-54ed42a07379",
   "metadata": {},
   "outputs": [
    {
     "data": {
      "text/html": [
       "<div>\n",
       "<style scoped>\n",
       "    .dataframe tbody tr th:only-of-type {\n",
       "        vertical-align: middle;\n",
       "    }\n",
       "\n",
       "    .dataframe tbody tr th {\n",
       "        vertical-align: top;\n",
       "    }\n",
       "\n",
       "    .dataframe thead th {\n",
       "        text-align: right;\n",
       "    }\n",
       "</style>\n",
       "<table border=\"1\" class=\"dataframe\">\n",
       "  <thead>\n",
       "    <tr style=\"text-align: right;\">\n",
       "      <th></th>\n",
       "      <th>location</th>\n",
       "      <th>min_temp</th>\n",
       "      <th>max_temp</th>\n",
       "      <th>rainfall</th>\n",
       "      <th>evaporation</th>\n",
       "      <th>sunshine</th>\n",
       "      <th>wind_gust_dir</th>\n",
       "      <th>wind_gust_speed</th>\n",
       "      <th>wind_dir_9am</th>\n",
       "      <th>wind_dir_3pm</th>\n",
       "      <th>...</th>\n",
       "      <th>humidity_9am</th>\n",
       "      <th>humidity_3pm</th>\n",
       "      <th>pressure_9am</th>\n",
       "      <th>pressure_3pm</th>\n",
       "      <th>cloud_9am</th>\n",
       "      <th>cloud_3pm</th>\n",
       "      <th>temp_9am</th>\n",
       "      <th>temp_3pm</th>\n",
       "      <th>rain_today</th>\n",
       "      <th>rain_tomorrow</th>\n",
       "    </tr>\n",
       "  </thead>\n",
       "  <tbody>\n",
       "    <tr>\n",
       "      <th>0</th>\n",
       "      <td>Albury</td>\n",
       "      <td>13.4</td>\n",
       "      <td>22.900000</td>\n",
       "      <td>0.6</td>\n",
       "      <td>5.468232</td>\n",
       "      <td>7.611178</td>\n",
       "      <td>W</td>\n",
       "      <td>44.00000</td>\n",
       "      <td>W</td>\n",
       "      <td>WNW</td>\n",
       "      <td>...</td>\n",
       "      <td>71.0</td>\n",
       "      <td>22.0</td>\n",
       "      <td>1007.7</td>\n",
       "      <td>1007.1</td>\n",
       "      <td>8.000000</td>\n",
       "      <td>4.50993</td>\n",
       "      <td>16.9</td>\n",
       "      <td>21.8</td>\n",
       "      <td>No</td>\n",
       "      <td>No</td>\n",
       "    </tr>\n",
       "    <tr>\n",
       "      <th>1</th>\n",
       "      <td>Albury</td>\n",
       "      <td>7.4</td>\n",
       "      <td>25.100000</td>\n",
       "      <td>0.0</td>\n",
       "      <td>5.468232</td>\n",
       "      <td>7.611178</td>\n",
       "      <td>WNW</td>\n",
       "      <td>44.00000</td>\n",
       "      <td>NNW</td>\n",
       "      <td>WSW</td>\n",
       "      <td>...</td>\n",
       "      <td>44.0</td>\n",
       "      <td>25.0</td>\n",
       "      <td>1010.6</td>\n",
       "      <td>1007.8</td>\n",
       "      <td>4.447461</td>\n",
       "      <td>4.50993</td>\n",
       "      <td>17.2</td>\n",
       "      <td>24.3</td>\n",
       "      <td>No</td>\n",
       "      <td>No</td>\n",
       "    </tr>\n",
       "    <tr>\n",
       "      <th>2</th>\n",
       "      <td>Albury</td>\n",
       "      <td>12.9</td>\n",
       "      <td>25.700000</td>\n",
       "      <td>0.0</td>\n",
       "      <td>5.468232</td>\n",
       "      <td>7.611178</td>\n",
       "      <td>WSW</td>\n",
       "      <td>46.00000</td>\n",
       "      <td>W</td>\n",
       "      <td>WSW</td>\n",
       "      <td>...</td>\n",
       "      <td>38.0</td>\n",
       "      <td>30.0</td>\n",
       "      <td>1007.6</td>\n",
       "      <td>1008.7</td>\n",
       "      <td>4.447461</td>\n",
       "      <td>2.00000</td>\n",
       "      <td>21.0</td>\n",
       "      <td>23.2</td>\n",
       "      <td>No</td>\n",
       "      <td>No</td>\n",
       "    </tr>\n",
       "    <tr>\n",
       "      <th>3</th>\n",
       "      <td>Albury</td>\n",
       "      <td>9.2</td>\n",
       "      <td>28.000000</td>\n",
       "      <td>0.0</td>\n",
       "      <td>5.468232</td>\n",
       "      <td>7.611178</td>\n",
       "      <td>NE</td>\n",
       "      <td>24.00000</td>\n",
       "      <td>SE</td>\n",
       "      <td>E</td>\n",
       "      <td>...</td>\n",
       "      <td>45.0</td>\n",
       "      <td>16.0</td>\n",
       "      <td>1017.6</td>\n",
       "      <td>1012.8</td>\n",
       "      <td>4.447461</td>\n",
       "      <td>4.50993</td>\n",
       "      <td>18.1</td>\n",
       "      <td>26.5</td>\n",
       "      <td>No</td>\n",
       "      <td>No</td>\n",
       "    </tr>\n",
       "    <tr>\n",
       "      <th>4</th>\n",
       "      <td>Albury</td>\n",
       "      <td>17.5</td>\n",
       "      <td>32.300000</td>\n",
       "      <td>1.0</td>\n",
       "      <td>5.468232</td>\n",
       "      <td>7.611178</td>\n",
       "      <td>W</td>\n",
       "      <td>41.00000</td>\n",
       "      <td>ENE</td>\n",
       "      <td>NW</td>\n",
       "      <td>...</td>\n",
       "      <td>82.0</td>\n",
       "      <td>33.0</td>\n",
       "      <td>1010.8</td>\n",
       "      <td>1006.0</td>\n",
       "      <td>7.000000</td>\n",
       "      <td>8.00000</td>\n",
       "      <td>17.8</td>\n",
       "      <td>29.7</td>\n",
       "      <td>No</td>\n",
       "      <td>No</td>\n",
       "    </tr>\n",
       "    <tr>\n",
       "      <th>...</th>\n",
       "      <td>...</td>\n",
       "      <td>...</td>\n",
       "      <td>...</td>\n",
       "      <td>...</td>\n",
       "      <td>...</td>\n",
       "      <td>...</td>\n",
       "      <td>...</td>\n",
       "      <td>...</td>\n",
       "      <td>...</td>\n",
       "      <td>...</td>\n",
       "      <td>...</td>\n",
       "      <td>...</td>\n",
       "      <td>...</td>\n",
       "      <td>...</td>\n",
       "      <td>...</td>\n",
       "      <td>...</td>\n",
       "      <td>...</td>\n",
       "      <td>...</td>\n",
       "      <td>...</td>\n",
       "      <td>...</td>\n",
       "      <td>...</td>\n",
       "    </tr>\n",
       "    <tr>\n",
       "      <th>145455</th>\n",
       "      <td>Uluru</td>\n",
       "      <td>2.8</td>\n",
       "      <td>23.400000</td>\n",
       "      <td>0.0</td>\n",
       "      <td>5.468232</td>\n",
       "      <td>7.611178</td>\n",
       "      <td>E</td>\n",
       "      <td>31.00000</td>\n",
       "      <td>SE</td>\n",
       "      <td>ENE</td>\n",
       "      <td>...</td>\n",
       "      <td>51.0</td>\n",
       "      <td>24.0</td>\n",
       "      <td>1024.6</td>\n",
       "      <td>1020.3</td>\n",
       "      <td>4.447461</td>\n",
       "      <td>4.50993</td>\n",
       "      <td>10.1</td>\n",
       "      <td>22.4</td>\n",
       "      <td>No</td>\n",
       "      <td>No</td>\n",
       "    </tr>\n",
       "    <tr>\n",
       "      <th>145456</th>\n",
       "      <td>Uluru</td>\n",
       "      <td>3.6</td>\n",
       "      <td>25.300000</td>\n",
       "      <td>0.0</td>\n",
       "      <td>5.468232</td>\n",
       "      <td>7.611178</td>\n",
       "      <td>NNW</td>\n",
       "      <td>22.00000</td>\n",
       "      <td>SE</td>\n",
       "      <td>N</td>\n",
       "      <td>...</td>\n",
       "      <td>56.0</td>\n",
       "      <td>21.0</td>\n",
       "      <td>1023.5</td>\n",
       "      <td>1019.1</td>\n",
       "      <td>4.447461</td>\n",
       "      <td>4.50993</td>\n",
       "      <td>10.9</td>\n",
       "      <td>24.5</td>\n",
       "      <td>No</td>\n",
       "      <td>No</td>\n",
       "    </tr>\n",
       "    <tr>\n",
       "      <th>145457</th>\n",
       "      <td>Uluru</td>\n",
       "      <td>5.4</td>\n",
       "      <td>26.900000</td>\n",
       "      <td>0.0</td>\n",
       "      <td>5.468232</td>\n",
       "      <td>7.611178</td>\n",
       "      <td>N</td>\n",
       "      <td>37.00000</td>\n",
       "      <td>SE</td>\n",
       "      <td>WNW</td>\n",
       "      <td>...</td>\n",
       "      <td>53.0</td>\n",
       "      <td>24.0</td>\n",
       "      <td>1021.0</td>\n",
       "      <td>1016.8</td>\n",
       "      <td>4.447461</td>\n",
       "      <td>4.50993</td>\n",
       "      <td>12.5</td>\n",
       "      <td>26.1</td>\n",
       "      <td>No</td>\n",
       "      <td>No</td>\n",
       "    </tr>\n",
       "    <tr>\n",
       "      <th>145458</th>\n",
       "      <td>Uluru</td>\n",
       "      <td>7.8</td>\n",
       "      <td>27.000000</td>\n",
       "      <td>0.0</td>\n",
       "      <td>5.468232</td>\n",
       "      <td>7.611178</td>\n",
       "      <td>SE</td>\n",
       "      <td>28.00000</td>\n",
       "      <td>SSE</td>\n",
       "      <td>N</td>\n",
       "      <td>...</td>\n",
       "      <td>51.0</td>\n",
       "      <td>24.0</td>\n",
       "      <td>1019.4</td>\n",
       "      <td>1016.5</td>\n",
       "      <td>3.000000</td>\n",
       "      <td>2.00000</td>\n",
       "      <td>15.1</td>\n",
       "      <td>26.0</td>\n",
       "      <td>No</td>\n",
       "      <td>No</td>\n",
       "    </tr>\n",
       "    <tr>\n",
       "      <th>145459</th>\n",
       "      <td>Uluru</td>\n",
       "      <td>14.9</td>\n",
       "      <td>23.221348</td>\n",
       "      <td>0.0</td>\n",
       "      <td>5.468232</td>\n",
       "      <td>7.611178</td>\n",
       "      <td>W</td>\n",
       "      <td>40.03523</td>\n",
       "      <td>ESE</td>\n",
       "      <td>ESE</td>\n",
       "      <td>...</td>\n",
       "      <td>62.0</td>\n",
       "      <td>36.0</td>\n",
       "      <td>1020.2</td>\n",
       "      <td>1017.9</td>\n",
       "      <td>8.000000</td>\n",
       "      <td>8.00000</td>\n",
       "      <td>15.0</td>\n",
       "      <td>20.9</td>\n",
       "      <td>No</td>\n",
       "      <td>No</td>\n",
       "    </tr>\n",
       "  </tbody>\n",
       "</table>\n",
       "<p>145460 rows × 22 columns</p>\n",
       "</div>"
      ],
      "text/plain": [
       "       location  min_temp   max_temp  rainfall  evaporation  sunshine  \\\n",
       "0        Albury      13.4  22.900000       0.6     5.468232  7.611178   \n",
       "1        Albury       7.4  25.100000       0.0     5.468232  7.611178   \n",
       "2        Albury      12.9  25.700000       0.0     5.468232  7.611178   \n",
       "3        Albury       9.2  28.000000       0.0     5.468232  7.611178   \n",
       "4        Albury      17.5  32.300000       1.0     5.468232  7.611178   \n",
       "...         ...       ...        ...       ...          ...       ...   \n",
       "145455    Uluru       2.8  23.400000       0.0     5.468232  7.611178   \n",
       "145456    Uluru       3.6  25.300000       0.0     5.468232  7.611178   \n",
       "145457    Uluru       5.4  26.900000       0.0     5.468232  7.611178   \n",
       "145458    Uluru       7.8  27.000000       0.0     5.468232  7.611178   \n",
       "145459    Uluru      14.9  23.221348       0.0     5.468232  7.611178   \n",
       "\n",
       "       wind_gust_dir  wind_gust_speed wind_dir_9am wind_dir_3pm  ...  \\\n",
       "0                  W         44.00000            W          WNW  ...   \n",
       "1                WNW         44.00000          NNW          WSW  ...   \n",
       "2                WSW         46.00000            W          WSW  ...   \n",
       "3                 NE         24.00000           SE            E  ...   \n",
       "4                  W         41.00000          ENE           NW  ...   \n",
       "...              ...              ...          ...          ...  ...   \n",
       "145455             E         31.00000           SE          ENE  ...   \n",
       "145456           NNW         22.00000           SE            N  ...   \n",
       "145457             N         37.00000           SE          WNW  ...   \n",
       "145458            SE         28.00000          SSE            N  ...   \n",
       "145459             W         40.03523          ESE          ESE  ...   \n",
       "\n",
       "        humidity_9am  humidity_3pm  pressure_9am  pressure_3pm  cloud_9am  \\\n",
       "0               71.0          22.0        1007.7        1007.1   8.000000   \n",
       "1               44.0          25.0        1010.6        1007.8   4.447461   \n",
       "2               38.0          30.0        1007.6        1008.7   4.447461   \n",
       "3               45.0          16.0        1017.6        1012.8   4.447461   \n",
       "4               82.0          33.0        1010.8        1006.0   7.000000   \n",
       "...              ...           ...           ...           ...        ...   \n",
       "145455          51.0          24.0        1024.6        1020.3   4.447461   \n",
       "145456          56.0          21.0        1023.5        1019.1   4.447461   \n",
       "145457          53.0          24.0        1021.0        1016.8   4.447461   \n",
       "145458          51.0          24.0        1019.4        1016.5   3.000000   \n",
       "145459          62.0          36.0        1020.2        1017.9   8.000000   \n",
       "\n",
       "        cloud_3pm  temp_9am  temp_3pm  rain_today  rain_tomorrow  \n",
       "0         4.50993      16.9      21.8          No             No  \n",
       "1         4.50993      17.2      24.3          No             No  \n",
       "2         2.00000      21.0      23.2          No             No  \n",
       "3         4.50993      18.1      26.5          No             No  \n",
       "4         8.00000      17.8      29.7          No             No  \n",
       "...           ...       ...       ...         ...            ...  \n",
       "145455    4.50993      10.1      22.4          No             No  \n",
       "145456    4.50993      10.9      24.5          No             No  \n",
       "145457    4.50993      12.5      26.1          No             No  \n",
       "145458    2.00000      15.1      26.0          No             No  \n",
       "145459    8.00000      15.0      20.9          No             No  \n",
       "\n",
       "[145460 rows x 22 columns]"
      ]
     },
     "execution_count": 186,
     "metadata": {},
     "output_type": "execute_result"
    }
   ],
   "source": [
    "df_c = df_c.drop('date', axis=1)\n",
    "df_c"
   ]
  },
  {
   "cell_type": "code",
   "execution_count": 187,
   "id": "89321192-9667-4180-a5cc-27e5f44ec703",
   "metadata": {},
   "outputs": [
    {
     "data": {
      "text/plain": [
       "217"
      ]
     },
     "execution_count": 187,
     "metadata": {},
     "output_type": "execute_result"
    }
   ],
   "source": [
    "df_c.duplicated().sum()"
   ]
  },
  {
   "cell_type": "code",
   "execution_count": 188,
   "id": "f0d32622-40d2-480d-838b-5641271c3841",
   "metadata": {},
   "outputs": [],
   "source": [
    "df_c = df_c.drop_duplicates().reset_index(drop=True)"
   ]
  },
  {
   "cell_type": "code",
   "execution_count": 189,
   "id": "1b0f15d2-4924-4c2f-8083-1ff9bcc7ec80",
   "metadata": {},
   "outputs": [],
   "source": [
    "df_c = df_c.drop('location', axis=1)"
   ]
  },
  {
   "cell_type": "code",
   "execution_count": 190,
   "id": "db673a6f-8c25-4bb7-ab50-5cd346e2f79d",
   "metadata": {},
   "outputs": [],
   "source": [
    "df_c['rain_today'] = pd.Categorical(df_c['rain_today']).codes\n",
    "df_c['rain_tomorrow'] = pd.Categorical(df_c['rain_tomorrow']).codes"
   ]
  },
  {
   "cell_type": "code",
   "execution_count": 191,
   "id": "0c3ad167-f092-4940-a720-f88027e75484",
   "metadata": {},
   "outputs": [],
   "source": [
    "from sklearn.preprocessing import OneHotEncoder"
   ]
  },
  {
   "cell_type": "code",
   "execution_count": 192,
   "id": "e4678be1-90db-4fee-ad26-bc2766c362a3",
   "metadata": {},
   "outputs": [
    {
     "name": "stderr",
     "output_type": "stream",
     "text": [
      "C:\\Users\\Sovano\\Desktop\\ML\\venv\\Lib\\site-packages\\sklearn\\preprocessing\\_encoders.py:972: FutureWarning: `sparse` was renamed to `sparse_output` in version 1.2 and will be removed in 1.4. `sparse_output` is ignored unless you leave `sparse` to its default value.\n",
      "  warnings.warn(\n"
     ]
    }
   ],
   "source": [
    "columns_to_encode = ['wind_gust_dir', 'wind_dir_9am', 'wind_dir_3pm']\n",
    "\n",
    "encoder = OneHotEncoder(sparse=False)\n",
    "data_encoded = encoder.fit_transform(df_c[columns_to_encode])\n",
    "\n",
    "encoded_columns = encoder.get_feature_names_out(columns_to_encode)\n",
    "data_encoded_df = pd.DataFrame(data_encoded, columns=encoded_columns)\n",
    "data_final = pd.concat([df_c, data_encoded_df], axis=1)\n",
    "\n",
    "df_c = data_final.drop(columns_to_encode, axis=1)"
   ]
  },
  {
   "cell_type": "code",
   "execution_count": 193,
   "id": "9a162bf8-b291-4170-8331-e60a63854413",
   "metadata": {},
   "outputs": [
    {
     "name": "stdout",
     "output_type": "stream",
     "text": [
      "<class 'pandas.core.frame.DataFrame'>\n",
      "RangeIndex: 145243 entries, 0 to 145242\n",
      "Data columns (total 66 columns):\n",
      " #   Column             Non-Null Count   Dtype  \n",
      "---  ------             --------------   -----  \n",
      " 0   min_temp           145243 non-null  float64\n",
      " 1   max_temp           145243 non-null  float64\n",
      " 2   rainfall           145243 non-null  float64\n",
      " 3   evaporation        145243 non-null  float64\n",
      " 4   sunshine           145243 non-null  float64\n",
      " 5   wind_gust_speed    145243 non-null  float64\n",
      " 6   wind_speed_9am     145243 non-null  float64\n",
      " 7   wind_speed_3pm     145243 non-null  float64\n",
      " 8   humidity_9am       145243 non-null  float64\n",
      " 9   humidity_3pm       145243 non-null  float64\n",
      " 10  pressure_9am       145243 non-null  float64\n",
      " 11  pressure_3pm       145243 non-null  float64\n",
      " 12  cloud_9am          145243 non-null  float64\n",
      " 13  cloud_3pm          145243 non-null  float64\n",
      " 14  temp_9am           145243 non-null  float64\n",
      " 15  temp_3pm           145243 non-null  float64\n",
      " 16  rain_today         145243 non-null  int8   \n",
      " 17  rain_tomorrow      145243 non-null  int8   \n",
      " 18  wind_gust_dir_E    145243 non-null  float64\n",
      " 19  wind_gust_dir_ENE  145243 non-null  float64\n",
      " 20  wind_gust_dir_ESE  145243 non-null  float64\n",
      " 21  wind_gust_dir_N    145243 non-null  float64\n",
      " 22  wind_gust_dir_NE   145243 non-null  float64\n",
      " 23  wind_gust_dir_NNE  145243 non-null  float64\n",
      " 24  wind_gust_dir_NNW  145243 non-null  float64\n",
      " 25  wind_gust_dir_NW   145243 non-null  float64\n",
      " 26  wind_gust_dir_S    145243 non-null  float64\n",
      " 27  wind_gust_dir_SE   145243 non-null  float64\n",
      " 28  wind_gust_dir_SSE  145243 non-null  float64\n",
      " 29  wind_gust_dir_SSW  145243 non-null  float64\n",
      " 30  wind_gust_dir_SW   145243 non-null  float64\n",
      " 31  wind_gust_dir_W    145243 non-null  float64\n",
      " 32  wind_gust_dir_WNW  145243 non-null  float64\n",
      " 33  wind_gust_dir_WSW  145243 non-null  float64\n",
      " 34  wind_dir_9am_E     145243 non-null  float64\n",
      " 35  wind_dir_9am_ENE   145243 non-null  float64\n",
      " 36  wind_dir_9am_ESE   145243 non-null  float64\n",
      " 37  wind_dir_9am_N     145243 non-null  float64\n",
      " 38  wind_dir_9am_NE    145243 non-null  float64\n",
      " 39  wind_dir_9am_NNE   145243 non-null  float64\n",
      " 40  wind_dir_9am_NNW   145243 non-null  float64\n",
      " 41  wind_dir_9am_NW    145243 non-null  float64\n",
      " 42  wind_dir_9am_S     145243 non-null  float64\n",
      " 43  wind_dir_9am_SE    145243 non-null  float64\n",
      " 44  wind_dir_9am_SSE   145243 non-null  float64\n",
      " 45  wind_dir_9am_SSW   145243 non-null  float64\n",
      " 46  wind_dir_9am_SW    145243 non-null  float64\n",
      " 47  wind_dir_9am_W     145243 non-null  float64\n",
      " 48  wind_dir_9am_WNW   145243 non-null  float64\n",
      " 49  wind_dir_9am_WSW   145243 non-null  float64\n",
      " 50  wind_dir_3pm_E     145243 non-null  float64\n",
      " 51  wind_dir_3pm_ENE   145243 non-null  float64\n",
      " 52  wind_dir_3pm_ESE   145243 non-null  float64\n",
      " 53  wind_dir_3pm_N     145243 non-null  float64\n",
      " 54  wind_dir_3pm_NE    145243 non-null  float64\n",
      " 55  wind_dir_3pm_NNE   145243 non-null  float64\n",
      " 56  wind_dir_3pm_NNW   145243 non-null  float64\n",
      " 57  wind_dir_3pm_NW    145243 non-null  float64\n",
      " 58  wind_dir_3pm_S     145243 non-null  float64\n",
      " 59  wind_dir_3pm_SE    145243 non-null  float64\n",
      " 60  wind_dir_3pm_SSE   145243 non-null  float64\n",
      " 61  wind_dir_3pm_SSW   145243 non-null  float64\n",
      " 62  wind_dir_3pm_SW    145243 non-null  float64\n",
      " 63  wind_dir_3pm_W     145243 non-null  float64\n",
      " 64  wind_dir_3pm_WNW   145243 non-null  float64\n",
      " 65  wind_dir_3pm_WSW   145243 non-null  float64\n",
      "dtypes: float64(64), int8(2)\n",
      "memory usage: 71.2 MB\n"
     ]
    }
   ],
   "source": [
    "df_c.info()"
   ]
  },
  {
   "cell_type": "code",
   "execution_count": 194,
   "id": "87a5f93b-05d3-410f-9137-299c84ab6b94",
   "metadata": {},
   "outputs": [],
   "source": [
    "columns_to_process = df_c.columns"
   ]
  },
  {
   "cell_type": "code",
   "execution_count": 195,
   "id": "1431faff-8a29-4d04-a6d3-70e6d165bd77",
   "metadata": {},
   "outputs": [],
   "source": [
    "columns_to_process = columns_to_process.drop(\"rain_tomorrow\", \"rain_today\")"
   ]
  },
  {
   "cell_type": "code",
   "execution_count": 196,
   "id": "c5e17b27-1cd2-4549-b1fa-f468af57bd85",
   "metadata": {},
   "outputs": [],
   "source": [
    "for column in columns_to_process:\n",
    "    q1 = df_c[column].quantile(0.25)\n",
    "    q3 = df_c[column].quantile(0.75)\n",
    "    iqr = q3 - q1\n",
    "    lower_threshold = q1 - 1.5 * iqr\n",
    "    upper_threshold = q3 + 1.5 * iqr\n",
    "    df_c = df_c.loc[(df_c[column] >= lower_threshold) & (df_c[column] <= upper_threshold)]"
   ]
  },
  {
   "cell_type": "code",
   "execution_count": 197,
   "id": "58f08f7f-1985-4433-8d10-74f3f36be904",
   "metadata": {},
   "outputs": [],
   "source": [
    "y_c = df_c[\"rain_tomorrow\"]\n",
    "y_r = df_c[\"rain_today\"]\n",
    "X_c = df_c.drop([\"rain_today\", \"rain_tomorrow\"], axis=1)\n",
    "\n",
    "y_cr = df_c[\"max_temp\"]\n",
    "y_rr = df_c[\"min_temp\"]\n",
    "X_r = df_c.drop([\"min_temp\", \"max_temp\"], axis=1)"
   ]
  },
  {
   "cell_type": "code",
   "execution_count": 198,
   "id": "a09c1c66-2413-4d76-bb34-077d46010c60",
   "metadata": {},
   "outputs": [],
   "source": [
    "from sklearn.preprocessing import StandardScaler"
   ]
  },
  {
   "cell_type": "code",
   "execution_count": 199,
   "id": "bd2719a3-fd18-4e3a-9acd-97db00a7666b",
   "metadata": {},
   "outputs": [],
   "source": [
    "normalizer = StandardScaler()\n",
    "X_normalized = normalizer.fit_transform(X_c)"
   ]
  },
  {
   "cell_type": "code",
   "execution_count": 200,
   "id": "5748b31f-11c4-421b-b05f-dac06f3dcec5",
   "metadata": {},
   "outputs": [],
   "source": [
    "from imblearn.over_sampling import SMOTE"
   ]
  },
  {
   "cell_type": "code",
   "execution_count": 201,
   "id": "9158b88b-48f5-4e36-bcd9-a3e5fb74c120",
   "metadata": {},
   "outputs": [],
   "source": [
    "#oversampler = SMOTE()\n",
    "#X_resampled, y_c_r = oversampler.fit_resample(X_normalized, y_c)"
   ]
  },
  {
   "cell_type": "code",
   "execution_count": 202,
   "id": "64f3a768-20fc-421b-9aae-4d9118dce3ce",
   "metadata": {},
   "outputs": [],
   "source": [
    "from sklearn.model_selection import train_test_split"
   ]
  },
  {
   "cell_type": "code",
   "execution_count": 203,
   "id": "835b707b-2672-41e6-b68c-00273db114d7",
   "metadata": {},
   "outputs": [],
   "source": [
    "X_train, X_test, y_c_train, y_c_test, y_r_train, y_r_test = train_test_split(X_normalized, y_c, y_r, test_size=0.2, random_state=42)\n",
    "X_train_r, X_test_r, y_c_train_r, y_c_test_r, y_r_train_r, y_r_test_r = train_test_split(X_r, y_cr, y_rr, test_size=0.2, random_state=42)"
   ]
  },
  {
   "cell_type": "code",
   "execution_count": 204,
   "id": "7d97704c-8b01-4891-8279-9c3ec2888b1c",
   "metadata": {},
   "outputs": [],
   "source": [
    "from sklearn.linear_model import MultiTaskElasticNet\n",
    "from sklearn.metrics import accuracy_score, log_loss, roc_auc_score, confusion_matrix, classification_report, precision_score, recall_score, f1_score"
   ]
  },
  {
   "cell_type": "code",
   "execution_count": 205,
   "id": "ea5235ae-37ce-45b1-a40a-94cd2ac6a709",
   "metadata": {},
   "outputs": [],
   "source": [
    "from sklearn.model_selection import GridSearchCV"
   ]
  },
  {
   "cell_type": "code",
   "execution_count": 206,
   "id": "45c3c4e7-e7d4-46ac-9dd4-756c2ab14b32",
   "metadata": {},
   "outputs": [],
   "source": [
    "import numpy as np"
   ]
  },
  {
   "cell_type": "code",
   "execution_count": 207,
   "id": "56686b28-a6ce-4c72-bd76-d5b0729e494f",
   "metadata": {},
   "outputs": [],
   "source": [
    "from sklearn.metrics import mean_squared_error, mean_absolute_error, mean_absolute_percentage_error\n",
    "from math import sqrt"
   ]
  },
  {
   "cell_type": "code",
   "execution_count": 208,
   "id": "fa2f0c68-54e3-4ae0-8e5d-f796581a414a",
   "metadata": {},
   "outputs": [
    {
     "data": {
      "text/html": [
       "<style>#sk-container-id-6 {color: black;}#sk-container-id-6 pre{padding: 0;}#sk-container-id-6 div.sk-toggleable {background-color: white;}#sk-container-id-6 label.sk-toggleable__label {cursor: pointer;display: block;width: 100%;margin-bottom: 0;padding: 0.3em;box-sizing: border-box;text-align: center;}#sk-container-id-6 label.sk-toggleable__label-arrow:before {content: \"▸\";float: left;margin-right: 0.25em;color: #696969;}#sk-container-id-6 label.sk-toggleable__label-arrow:hover:before {color: black;}#sk-container-id-6 div.sk-estimator:hover label.sk-toggleable__label-arrow:before {color: black;}#sk-container-id-6 div.sk-toggleable__content {max-height: 0;max-width: 0;overflow: hidden;text-align: left;background-color: #f0f8ff;}#sk-container-id-6 div.sk-toggleable__content pre {margin: 0.2em;color: black;border-radius: 0.25em;background-color: #f0f8ff;}#sk-container-id-6 input.sk-toggleable__control:checked~div.sk-toggleable__content {max-height: 200px;max-width: 100%;overflow: auto;}#sk-container-id-6 input.sk-toggleable__control:checked~label.sk-toggleable__label-arrow:before {content: \"▾\";}#sk-container-id-6 div.sk-estimator input.sk-toggleable__control:checked~label.sk-toggleable__label {background-color: #d4ebff;}#sk-container-id-6 div.sk-label input.sk-toggleable__control:checked~label.sk-toggleable__label {background-color: #d4ebff;}#sk-container-id-6 input.sk-hidden--visually {border: 0;clip: rect(1px 1px 1px 1px);clip: rect(1px, 1px, 1px, 1px);height: 1px;margin: -1px;overflow: hidden;padding: 0;position: absolute;width: 1px;}#sk-container-id-6 div.sk-estimator {font-family: monospace;background-color: #f0f8ff;border: 1px dotted black;border-radius: 0.25em;box-sizing: border-box;margin-bottom: 0.5em;}#sk-container-id-6 div.sk-estimator:hover {background-color: #d4ebff;}#sk-container-id-6 div.sk-parallel-item::after {content: \"\";width: 100%;border-bottom: 1px solid gray;flex-grow: 1;}#sk-container-id-6 div.sk-label:hover label.sk-toggleable__label {background-color: #d4ebff;}#sk-container-id-6 div.sk-serial::before {content: \"\";position: absolute;border-left: 1px solid gray;box-sizing: border-box;top: 0;bottom: 0;left: 50%;z-index: 0;}#sk-container-id-6 div.sk-serial {display: flex;flex-direction: column;align-items: center;background-color: white;padding-right: 0.2em;padding-left: 0.2em;position: relative;}#sk-container-id-6 div.sk-item {position: relative;z-index: 1;}#sk-container-id-6 div.sk-parallel {display: flex;align-items: stretch;justify-content: center;background-color: white;position: relative;}#sk-container-id-6 div.sk-item::before, #sk-container-id-6 div.sk-parallel-item::before {content: \"\";position: absolute;border-left: 1px solid gray;box-sizing: border-box;top: 0;bottom: 0;left: 50%;z-index: -1;}#sk-container-id-6 div.sk-parallel-item {display: flex;flex-direction: column;z-index: 1;position: relative;background-color: white;}#sk-container-id-6 div.sk-parallel-item:first-child::after {align-self: flex-end;width: 50%;}#sk-container-id-6 div.sk-parallel-item:last-child::after {align-self: flex-start;width: 50%;}#sk-container-id-6 div.sk-parallel-item:only-child::after {width: 0;}#sk-container-id-6 div.sk-dashed-wrapped {border: 1px dashed gray;margin: 0 0.4em 0.5em 0.4em;box-sizing: border-box;padding-bottom: 0.4em;background-color: white;}#sk-container-id-6 div.sk-label label {font-family: monospace;font-weight: bold;display: inline-block;line-height: 1.2em;}#sk-container-id-6 div.sk-label-container {text-align: center;}#sk-container-id-6 div.sk-container {/* jupyter's `normalize.less` sets `[hidden] { display: none; }` but bootstrap.min.css set `[hidden] { display: none !important; }` so we also need the `!important` here to be able to override the default hidden behavior on the sphinx rendered scikit-learn.org. See: https://github.com/scikit-learn/scikit-learn/issues/21755 */display: inline-block !important;position: relative;}#sk-container-id-6 div.sk-text-repr-fallback {display: none;}</style><div id=\"sk-container-id-6\" class=\"sk-top-container\"><div class=\"sk-text-repr-fallback\"><pre>MultiTaskElasticNet()</pre><b>In a Jupyter environment, please rerun this cell to show the HTML representation or trust the notebook. <br />On GitHub, the HTML representation is unable to render, please try loading this page with nbviewer.org.</b></div><div class=\"sk-container\" hidden><div class=\"sk-item\"><div class=\"sk-estimator sk-toggleable\"><input class=\"sk-toggleable__control sk-hidden--visually\" id=\"sk-estimator-id-6\" type=\"checkbox\" checked><label for=\"sk-estimator-id-6\" class=\"sk-toggleable__label sk-toggleable__label-arrow\">MultiTaskElasticNet</label><div class=\"sk-toggleable__content\"><pre>MultiTaskElasticNet()</pre></div></div></div></div></div>"
      ],
      "text/plain": [
       "MultiTaskElasticNet()"
      ]
     },
     "execution_count": 208,
     "metadata": {},
     "output_type": "execute_result"
    }
   ],
   "source": [
    "model = MultiTaskElasticNet()\n",
    "model.fit(X_train, np.column_stack((y_c_train, y_r_train)))\n",
    "\n",
    "model2 = MultiTaskElasticNet()\n",
    "model2.fit(X_train_r, np.column_stack((y_c_train_r, y_r_train_r)))"
   ]
  },
  {
   "cell_type": "code",
   "execution_count": 209,
   "id": "d16ec960-98c9-4fe9-8c46-4892fd2bbdfd",
   "metadata": {},
   "outputs": [
    {
     "name": "stdout",
     "output_type": "stream",
     "text": [
      "Accuracy: 0.839572192513369\n",
      "-------------------\n",
      "Accuracy: 1.0\n",
      "-------------------\n",
      "MAE: 10.258305532470452\n",
      "MSE: 133.31287517636534\n",
      "RMSE: 11.54611948562656\n",
      "MAPE: 0.9973226190241111\n",
      "-------------------\n",
      "MAE: 22.996977706054093\n",
      "MSE: 560.9428649473533\n",
      "RMSE: 23.68423241203635\n",
      "MAPE: 0.9963063074341667\n"
     ]
    },
    {
     "name": "stderr",
     "output_type": "stream",
     "text": [
      "C:\\Users\\Sovano\\Desktop\\ML\\venv\\Lib\\site-packages\\sklearn\\base.py:457: UserWarning: X has feature names, but MultiTaskElasticNet was fitted without feature names\n",
      "  warnings.warn(\n"
     ]
    }
   ],
   "source": [
    "y_pred = model.predict(X_test)\n",
    "y_pred_c = y_pred[:, 0]\n",
    "y_pred_r = y_pred[:, 1]\n",
    "\n",
    "y_pred = model.predict(X_test_r)\n",
    "y_pred_cr = y_pred[:, 0]\n",
    "y_pred_rr = y_pred[:, 1]\n",
    "\n",
    "accuracy = accuracy_score(y_c_test, np.round(y_pred_c))\n",
    "print(f'Accuracy: {accuracy}')\n",
    "print(\"-------------------\")\n",
    "accuracy = accuracy_score(y_r_test, np.round(y_pred_r))\n",
    "print(f'Accuracy: {accuracy}')\n",
    "print(\"-------------------\")\n",
    "\n",
    "print(f'MAE: {mean_absolute_error(y_r_test_r, y_pred_rr)}')\n",
    "print(f'MSE: {mean_squared_error(y_r_test_r, y_pred_rr)}')\n",
    "print(f'RMSE: {sqrt(mean_squared_error(y_r_test_r, y_pred_rr))}')\n",
    "print(f'MAPE: {sqrt(mean_absolute_percentage_error(y_r_test_r, y_pred_rr))}')\n",
    "print(\"-------------------\")\n",
    "print(f'MAE: {mean_absolute_error(y_c_test_r, y_pred_cr)}')\n",
    "print(f'MSE: {mean_squared_error(y_c_test_r, y_pred_cr)}')\n",
    "print(f'RMSE: {sqrt(mean_squared_error(y_c_test_r, y_pred_cr))}')\n",
    "print(f'MAPE: {sqrt(mean_absolute_percentage_error(y_c_test_r, y_pred_cr))}')"
   ]
  },
  {
   "cell_type": "code",
   "execution_count": 210,
   "id": "e96aa167-0614-4ec4-bd14-efe7d8a5838e",
   "metadata": {},
   "outputs": [
    {
     "name": "stdout",
     "output_type": "stream",
     "text": [
      "Accuracy: 0.839572192513369\n",
      "-------------------\n",
      "Accuracy: 1.0\n"
     ]
    }
   ],
   "source": [
    "model = MultiTaskElasticNet()\n",
    "param_grid = {'alpha': [0.1, 0.5, 1.0], 'l1_ratio': [0.2, 0.5, 0.8]}\n",
    "grid_search = GridSearchCV(model, param_grid=param_grid, cv=5)\n",
    "grid_search.fit(X_train, np.column_stack((y_c_train, y_r_train)))\n",
    "\n",
    "best_params = grid_search.best_params_\n",
    "\n",
    "y_c_pred = grid_search.predict(X_test)[:, 0]\n",
    "y_r_pred = grid_search.predict(X_test)[:, 1]\n",
    "\n",
    "accuracy = accuracy_score(y_c_test, np.round(y_c_pred))\n",
    "print(f'Accuracy: {accuracy}')\n",
    "print(\"-------------------\")\n",
    "accuracy = accuracy_score(y_r_test, np.round(y_r_pred))\n",
    "print(f'Accuracy: {accuracy}')"
   ]
  },
  {
   "cell_type": "code",
   "execution_count": 211,
   "id": "a806f4e1-b195-42f4-a927-3e1b514ecfb7",
   "metadata": {},
   "outputs": [
    {
     "name": "stdout",
     "output_type": "stream",
     "text": [
      "MAE: 2.175069243714618\n",
      "MSE: 8.903607507823198\n",
      "RMSE: 2.983891336463712\n",
      "MAPE: 11865638.14129907\n",
      "-------------------\n",
      "MAE: 1.6468003017814867\n",
      "MSE: 8.202938872042873\n",
      "RMSE: 2.864077316002987\n",
      "MAPE: 0.30650044061697884\n"
     ]
    }
   ],
   "source": [
    "model = MultiTaskElasticNet()\n",
    "param_grid = {'alpha': [0.1, 0.5, 1.0], 'l1_ratio': [0.2, 0.5, 0.8]}\n",
    "grid_search = GridSearchCV(model, param_grid=param_grid, cv=5)\n",
    "grid_search.fit(X_train_r, np.column_stack((y_c_train_r, y_r_train_r)))\n",
    "\n",
    "best_params = grid_search.best_params_\n",
    "\n",
    "y_c_pred = grid_search.predict(X_test_r)[:, 0]\n",
    "y_r_pred = grid_search.predict(X_test_r)[:, 1]\n",
    "\n",
    "print(f'MAE: {mean_absolute_error(y_r_test_r, y_r_pred)}')\n",
    "print(f'MSE: {mean_squared_error(y_r_test_r, y_r_pred)}')\n",
    "print(f'RMSE: {sqrt(mean_squared_error(y_r_test_r, y_r_pred))}')\n",
    "print(f'MAPE: {sqrt(mean_absolute_percentage_error(y_r_test_r, y_r_pred))}')\n",
    "print(\"-------------------\")\n",
    "print(f'MAE: {mean_absolute_error(y_c_test_r, y_c_pred)}')\n",
    "print(f'MSE: {mean_squared_error(y_c_test_r, y_c_pred)}')\n",
    "print(f'RMSE: {sqrt(mean_squared_error(y_c_test_r, y_c_pred))}')\n",
    "print(f'MAPE: {sqrt(mean_absolute_percentage_error(y_c_test_r, y_c_pred))}')"
   ]
  },
  {
   "cell_type": "code",
   "execution_count": null,
   "id": "5a2c2df2-e8c7-4125-965a-cacd44b26830",
   "metadata": {},
   "outputs": [],
   "source": []
  }
 ],
 "metadata": {
  "kernelspec": {
   "display_name": "Python 3 (ipykernel)",
   "language": "python",
   "name": "python3"
  },
  "language_info": {
   "codemirror_mode": {
    "name": "ipython",
    "version": 3
   },
   "file_extension": ".py",
   "mimetype": "text/x-python",
   "name": "python",
   "nbconvert_exporter": "python",
   "pygments_lexer": "ipython3",
   "version": "3.11.2"
  }
 },
 "nbformat": 4,
 "nbformat_minor": 5
}
